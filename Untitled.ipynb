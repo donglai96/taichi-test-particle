{
 "cells": [
  {
   "cell_type": "code",
   "execution_count": 1,
   "id": "08c01641",
   "metadata": {},
   "outputs": [
    {
     "name": "stdout",
     "output_type": "stream",
     "text": [
      "[Taichi] version 1.3.0, llvm 16.0.0git, commit 0f25b95e, osx, python 3.8.15\n",
      "[I 12/10/22 18:32:42.874 3974910] [shell.py:_shell_pop_print@33] Graphical python shell detected, using wrapped sys.stdout\n",
      "[Taichi] Starting on arch=metal\n",
      "[-0.       -0.        0.002496]\n"
     ]
    }
   ],
   "source": [
    "import taichi as ti\n",
    "import constants as cst\n",
    "ti.init(arch = ti.gpu)\n",
    "@ti.func\n",
    "def dipole_field(L, r, B0):\n",
    "    \"\"\"get dipole field vector\n",
    "    The coordinates is z along the field line, x and y satisfy the\n",
    "    divergence free law\n",
    "\n",
    "    Args:\n",
    "        L (ti.f32): L shell\n",
    "        r (ti vector): location of particle\n",
    "        B0 (ti.f32): magnetic field at equator\n",
    "    \"\"\"\n",
    "    lat = r[2]\n",
    "    x = r[0]\n",
    "    y = r[1]\n",
    "    cos_lat= ti.cos(lat)\n",
    "    sin_lat = ti.sin(lat)\n",
    "    Bz = B0/(L**3 * cos_lat**6) * ti.sqrt(1 + 3 * sin_lat ** 2)\n",
    "\n",
    "    dBdz = 3 * Bz * sin_lat / (L * cst.Planet_Radius * ti.sqrt(1 + 3 * sin_lat ** 2)) \\\n",
    "        * (1 / (1 + 3 * sin_lat ** 2) + 2 /(cos_lat ** 2))\n",
    "\n",
    "    Bx = -dBdz * (x / 2.0)\n",
    "    By = -dBdz * (y / 2.0)\n",
    "    B = ti.Vector([Bx,By,Bz])\n",
    "    return B\n",
    "\n",
    "\n",
    "r = [0,0,0]\n",
    "B0 =cst.B0\n",
    "L = 5\n",
    "lat = r[2]\n",
    "x = r[0]\n",
    "y = r[1]\n",
    "cos_lat= ti.cos(lat)\n",
    "sin_lat = ti.sin(lat)\n",
    "Bz = B0/(L**3 * cos_lat**6) * ti.sqrt(1 + 3 * sin_lat ** 2)\n",
    "\n",
    "dBdz = 3 * Bz * sin_lat / (L * cst.Planet_Radius * ti.sqrt(1 + 3 * sin_lat ** 2)) \\\n",
    "    * (1 / (1 + 3 * sin_lat ** 2) + 2 /(cos_lat ** 2))\n",
    "\n",
    "Bx = -dBdz * (x / 2.0)\n",
    "By = -dBdz * (y / 2.0)\n",
    "B = ti.Vector([Bx,By,Bz])\n",
    "print(B)"
   ]
  },
  {
   "cell_type": "code",
   "execution_count": 21,
   "id": "4b7a3891",
   "metadata": {},
   "outputs": [],
   "source": [
    "m = 9.1094e-28\n",
    "q = 1.5\n",
    "@ti.dataclass\n",
    "\n",
    "class Particle:\n",
    "    r: ti.types.vector(3, ti.f32)\n",
    "    v: ti.types.vector(3, ti.f32)\n",
    "    mass: ti.f32\n",
    "    charge: ti.f32\n",
    "    @ti.func\n",
    "    def initmass(self,m,q):\n",
    "        self.mass = m\n",
    "        self.charge = q\n",
    "particles= Particle.field(shape = (100,))\n",
    "\n",
    "@ti.kernel\n",
    "def simulate():\n",
    "    for n in range(100):\n",
    "        particles[n].initmass(m,q)\n",
    "\n",
    "        \n",
    "    \n",
    "simulate()\n",
    "\n",
    "#print(type(a))"
   ]
  },
  {
   "cell_type": "code",
   "execution_count": 22,
   "id": "ace70cd8",
   "metadata": {},
   "outputs": [
    {
     "name": "stdout",
     "output_type": "stream",
     "text": [
      "1.5\n",
      "9.1094001919888e-28\n"
     ]
    }
   ],
   "source": [
    "particles[1].mass\n",
    "print(particles[1].charge)\n",
    "print(particles[1].mass)"
   ]
  },
  {
   "cell_type": "code",
   "execution_count": null,
   "id": "5a0895d8",
   "metadata": {},
   "outputs": [],
   "source": []
  }
 ],
 "metadata": {
  "kernelspec": {
   "display_name": "Python 3 (ipykernel)",
   "language": "python",
   "name": "python3"
  },
  "language_info": {
   "codemirror_mode": {
    "name": "ipython",
    "version": 3
   },
   "file_extension": ".py",
   "mimetype": "text/x-python",
   "name": "python",
   "nbconvert_exporter": "python",
   "pygments_lexer": "ipython3",
   "version": "3.8.15"
  }
 },
 "nbformat": 4,
 "nbformat_minor": 5
}
