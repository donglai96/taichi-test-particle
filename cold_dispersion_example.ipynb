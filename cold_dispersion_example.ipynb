{
 "cells": [
  {
   "cell_type": "markdown",
   "id": "d8bc51a1",
   "metadata": {},
   "source": [
    "# Calculate the relationship of Electric field\n",
    "\n",
    "\n",
    "\\begin{equation}\n",
    "\\frac{c^{2} k^{2}}{\\omega^{2}}=\\frac{R L \\sin ^{2} \\theta+P S\\left(1+\\cos ^{2} \\theta\\right) \\pm\\left[(R L-P S)^{2} \\sin ^{4} \\theta+4 P^{2} D^{2} \\cos ^{2} \\theta\\right]^{\\frac{1}{2}}}{2\\left(S \\sin ^{2} \\theta+P \\cos ^{2} \\theta\\right)}\n",
    "\\end{equation}\n",
    "\n",
    "\n",
    "\\begin{equation}\n",
    "\\begin{array}{c}\n",
    "R=1-\\frac{\\omega_{p e}^{2}}{\\omega\\left(\\omega+\\omega_{c e}\\right)} \\\\\n",
    "L=1-\\frac{\\omega_{p e}^{2}}{\\omega\\left(\\omega-\\omega_{c e}\\right)} \\\\\n",
    "P=1-\\frac{\\omega_{p e}^{2}}{\\omega^2}\\\\\n",
    "S=\\frac{1}{2}(R+L) \\\\\n",
    "D=\\frac{1}{2}(R-L)\n",
    "\\end{array}\n",
    "\\end{equation}"
   ]
  },
  {
   "cell_type": "code",
   "execution_count": 1,
   "id": "d531ffc6",
   "metadata": {},
   "outputs": [],
   "source": [
    "# case 1 in Xin An's paper\n",
    "# https://arxiv.org/pdf/1901.00953.pdf\n",
    "#  Check the result of E field ratio\n",
    "import sympy as sym\n",
    "import numpy as np\n",
    "\n",
    "wpe = sym.Symbol('wpe')\n",
    "c = sym.Symbol('c')\n",
    "w = 0.0215* wpe\n",
    "wce = 0.1 * wpe\n",
    "\n",
    "M = 10\n",
    "N_x = 4096\n",
    "ci = sym.Symbol('ci')\n",
    "\n",
    "Delta_x = ci* c / wpe\n",
    "\n",
    "\n",
    "\n",
    "R = 1 - (wpe**2)/(w*(w - wce))\n",
    "L = 1 - (wpe**2)/(w*(w + wce)) \n",
    "P = 1 - (wpe**2)/(w**2)\n",
    "S = 1/2 * (R + L )\n",
    "D = 1/2 * (R - L )\n",
    "\n",
    "k = 2 * np.pi * M /(N_x * Delta_x)\n",
    "\n",
    "eta = c * k / w \n",
    "sin = np.sin(np.deg2rad(30))\n",
    "cos = np.cos(np.deg2rad(30))"
   ]
  },
  {
   "cell_type": "markdown",
   "id": "16ea7d5c",
   "metadata": {},
   "source": []
  },
  {
   "cell_type": "code",
   "execution_count": 4,
   "id": "e959970d",
   "metadata": {},
   "outputs": [
    {
     "data": {
      "text/latex": [
       "$\\displaystyle \\left\\{-0.0266689735374206, 0.0266689735374206\\right\\}$"
      ],
      "text/plain": [
       "{-0.0266689735374206, 0.0266689735374206}"
      ]
     },
     "execution_count": 4,
     "metadata": {},
     "output_type": "execute_result"
    }
   ],
   "source": [
    "rhs =  (R*L*sin**2 + P *S *(1 + cos**2) -((R*L -P*S)**2 * cos**4 + 4 *P**2*D**2 * cos**2 )**0.5)/(2 *(S*sin**2 + P*cos**2))\n",
    "lhs = (k* c /w )**2\n",
    "sym.solveset(lhs - rhs,ci)"
   ]
  },
  {
   "cell_type": "code",
   "execution_count": 2,
   "id": "1ab83385",
   "metadata": {},
   "outputs": [],
   "source": [
    "# Calculate the E field\n",
    "# The Efield has to be same with the theory\n",
    "# Remember stix coordinate is not same \n",
    "theta = np.deg2rad(30)\n",
    "Ez_Ex = eta**2 * np.sin(theta) * np.cos(theta) / (eta**2 * np.sin(theta)**2 - P)\n",
    "Ey_Ex = 1j*D/(eta**2 - S)\n",
    "theta_rotate = np.deg2rad(60)\n",
    "ex = sym.Symbol('ex')\n",
    "Ex =ex * np.cos(theta_rotate) + ex * Ez_Ex * np.sin(theta_rotate)\n",
    "Ey = ex * Ey_Ex\n",
    "Ez = -ex * np.sin(theta_rotate) + ex * Ez_Ex * np.cos(theta_rotate)"
   ]
  },
  {
   "cell_type": "code",
   "execution_count": 5,
   "id": "9a912e92",
   "metadata": {},
   "outputs": [
    {
     "data": {
      "text/latex": [
       "$\\displaystyle 0.614630512785071 ex$"
      ],
      "text/plain": [
       "0.614630512785071*ex"
      ]
     },
     "execution_count": 5,
     "metadata": {},
     "output_type": "execute_result"
    }
   ],
   "source": [
    "Ex.subs({ci:0.02667})"
   ]
  },
  {
   "cell_type": "code",
   "execution_count": 6,
   "id": "bc2a0b4d",
   "metadata": {},
   "outputs": [
    {
     "data": {
      "text/latex": [
       "$\\displaystyle 0.799662419231132 i ex$"
      ],
      "text/plain": [
       "0.799662419231132*I*ex"
      ]
     },
     "execution_count": 6,
     "metadata": {},
     "output_type": "execute_result"
    }
   ],
   "source": [
    "Ey.subs({ci:0.02667})"
   ]
  },
  {
   "cell_type": "code",
   "execution_count": 7,
   "id": "23a1b3b6",
   "metadata": {},
   "outputs": [
    {
     "data": {
      "text/latex": [
       "$\\displaystyle - 0.799843446370633 ex$"
      ],
      "text/plain": [
       "-0.799843446370633*ex"
      ]
     },
     "execution_count": 7,
     "metadata": {},
     "output_type": "execute_result"
    }
   ],
   "source": [
    "Ez.subs({ci:0.02667})"
   ]
  },
  {
   "cell_type": "code",
   "execution_count": 11,
   "id": "823fcead",
   "metadata": {},
   "outputs": [
    {
     "data": {
      "text/latex": [
       "$\\displaystyle 0.00111251890414321$"
      ],
      "text/plain": [
       "0.00111251890414321"
      ]
     },
     "execution_count": 11,
     "metadata": {},
     "output_type": "execute_result"
    }
   ],
   "source": [
    "1.81/1.39 + Ey.subs({ci:0.02667})/Ex.subs({ci:0.02667})*1j"
   ]
  },
  {
   "cell_type": "code",
   "execution_count": null,
   "id": "9ddef38d",
   "metadata": {},
   "outputs": [],
   "source": [
    "# so \n",
    "# 1.39 1.81i .-1.81"
   ]
  },
  {
   "cell_type": "code",
   "execution_count": 22,
   "id": "b706deff",
   "metadata": {},
   "outputs": [
    {
     "data": {
      "text/latex": [
       "$\\displaystyle 10.0$"
      ],
      "text/plain": [
       "10.0000000000000"
      ]
     },
     "execution_count": 22,
     "metadata": {},
     "output_type": "execute_result"
    }
   ],
   "source": [
    "# transfer to osiris\n",
    "(k*(N_x * Delta_x)/ (2 * np.pi) ).subs({ci:0.02667})"
   ]
  },
  {
   "cell_type": "code",
   "execution_count": 18,
   "id": "f0697c58",
   "metadata": {},
   "outputs": [
    {
     "name": "stdout",
     "output_type": "stream",
     "text": [
      "0.013335\n"
     ]
    }
   ],
   "source": [
    "vth = 0.02667 * 0.5\n",
    "print(vth)"
   ]
  },
  {
   "cell_type": "code",
   "execution_count": 19,
   "id": "0acae0ef",
   "metadata": {},
   "outputs": [
    {
     "data": {
      "text/plain": [
       "0.0216"
      ]
     },
     "execution_count": 19,
     "metadata": {},
     "output_type": "execute_result"
    }
   ],
   "source": [
    "13.5/625"
   ]
  },
  {
   "cell_type": "code",
   "execution_count": 20,
   "id": "7c9d45ee",
   "metadata": {},
   "outputs": [
    {
     "data": {
      "text/plain": [
       "279.0697674418605"
      ]
     },
     "execution_count": 20,
     "metadata": {},
     "output_type": "execute_result"
    }
   ],
   "source": [
    "6/0.0215"
   ]
  },
  {
   "cell_type": "code",
   "execution_count": 36,
   "id": "26109ef5",
   "metadata": {},
   "outputs": [
    {
     "data": {
      "text/latex": [
       "$\\displaystyle \\frac{1.99560015935508 wpe}{c}$"
      ],
      "text/plain": [
       "1.99560015935508*wpe/c"
      ]
     },
     "execution_count": 36,
     "metadata": {},
     "output_type": "execute_result"
    }
   ],
   "source": [
    "(k*(21.8)/ (2 * np.pi) ).subs({ci:0.02667})"
   ]
  },
  {
   "cell_type": "code",
   "execution_count": 24,
   "id": "161f7e20",
   "metadata": {},
   "outputs": [
    {
     "data": {
      "text/latex": [
       "$\\displaystyle \\frac{4096 c ci}{wpe}$"
      ],
      "text/plain": [
       "4096*c*ci/wpe"
      ]
     },
     "execution_count": 24,
     "metadata": {},
     "output_type": "execute_result"
    }
   ],
   "source": [
    "N_x * Delta_x\n"
   ]
  },
  {
   "cell_type": "code",
   "execution_count": 30,
   "id": "8b73e642",
   "metadata": {},
   "outputs": [
    {
     "data": {
      "text/latex": [
       "$\\displaystyle 0.0373801943628219 c$"
      ],
      "text/plain": [
       "0.0373801943628219*c"
      ]
     },
     "execution_count": 30,
     "metadata": {},
     "output_type": "execute_result"
    }
   ],
   "source": [
    "w/k.subs({ci:0.02667})"
   ]
  },
  {
   "cell_type": "code",
   "execution_count": 31,
   "id": "4332f807",
   "metadata": {},
   "outputs": [
    {
     "data": {
      "text/latex": [
       "$\\displaystyle \\frac{0.575170899094729 wpe}{c}$"
      ],
      "text/plain": [
       "0.575170899094729*wpe/c"
      ]
     },
     "execution_count": 31,
     "metadata": {},
     "output_type": "execute_result"
    }
   ],
   "source": [
    "k.subs({ci:0.02667})"
   ]
  },
  {
   "cell_type": "code",
   "execution_count": 32,
   "id": "4f22b8b1",
   "metadata": {},
   "outputs": [
    {
     "data": {
      "text/latex": [
       "$\\displaystyle \\frac{4096 c ci}{wpe}$"
      ],
      "text/plain": [
       "4096*c*ci/wpe"
      ]
     },
     "execution_count": 32,
     "metadata": {},
     "output_type": "execute_result"
    }
   ],
   "source": [
    "N_x * Delta_x"
   ]
  },
  {
   "cell_type": "code",
   "execution_count": 37,
   "id": "16d987a1",
   "metadata": {},
   "outputs": [
    {
     "data": {
      "text/plain": [
       "0.0352"
      ]
     },
     "execution_count": 37,
     "metadata": {},
     "output_type": "execute_result"
    }
   ],
   "source": [
    "22/625"
   ]
  },
  {
   "cell_type": "code",
   "execution_count": 38,
   "id": "6e1e477c",
   "metadata": {},
   "outputs": [
    {
     "data": {
      "text/plain": [
       "41.88790204786391"
      ]
     },
     "execution_count": 38,
     "metadata": {},
     "output_type": "execute_result"
    }
   ],
   "source": [
    "2 * np.pi / 0.15"
   ]
  },
  {
   "cell_type": "code",
   "execution_count": null,
   "id": "03c5bd9b",
   "metadata": {},
   "outputs": [],
   "source": []
  }
 ],
 "metadata": {
  "kernelspec": {
   "display_name": "Python 3 (ipykernel)",
   "language": "python",
   "name": "python3"
  },
  "language_info": {
   "codemirror_mode": {
    "name": "ipython",
    "version": 3
   },
   "file_extension": ".py",
   "mimetype": "text/x-python",
   "name": "python",
   "nbconvert_exporter": "python",
   "pygments_lexer": "ipython3",
   "version": "3.8.13"
  }
 },
 "nbformat": 4,
 "nbformat_minor": 5
}
