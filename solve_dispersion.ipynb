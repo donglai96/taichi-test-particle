{
 "cells": [
  {
   "cell_type": "markdown",
   "id": "ac657283",
   "metadata": {},
   "source": [
    "# Solve dispersion\n",
    "\n",
    "Given $\\omega$ and information of background,\n",
    "\n",
    "solve the wave number of the particle\n",
    "\n",
    "frequency = 980Hz\n"
   ]
  },
  {
   "cell_type": "code",
   "execution_count": 1,
   "id": "0ae5eaab",
   "metadata": {},
   "outputs": [
    {
     "name": "stdout",
     "output_type": "stream",
     "text": [
      "[Taichi] version 1.3.0, llvm 16.0.0git, commit 0f25b95e, osx, python 3.8.15\n",
      "[I 01/02/23 21:29:02.807 1943276] [shell.py:_shell_pop_print@33] Graphical python shell detected, using wrapped sys.stdout\n"
     ]
    }
   ],
   "source": [
    "import numpy as np\n",
    "from taichiphysics import *\n",
    "import constants as cst\n",
    "def get_resonance(N, w, k , wce, gamma):\n",
    "    \n",
    "    \n",
    "    v_para =( w - N * wce/ gamma ) /k\n",
    "    return v_para"
   ]
  },
  {
   "cell_type": "code",
   "execution_count": 5,
   "id": "1bc75e9f",
   "metadata": {},
   "outputs": [],
   "source": [
    "import sympy as sym\n",
    "import numpy as np\n",
    "\n",
    "wpe = sym.Symbol('wpe')\n",
    "c = sym.Symbol('c')\n",
    "k = sym.Symbol('k')\n",
    "# w = 0.0215* wpe\n",
    "# wce = 0.1 * wpe\n",
    "w =sym.Symbol('w')\n",
    "wce =sym.Symbol('wce')\n",
    "\n",
    "R = 1 - (wpe**2)/(w*(w - wce))\n",
    "L = 1 - (wpe**2)/(w*(w + wce)) \n",
    "P = 1 - (wpe**2)/(w**2)\n",
    "S = 1/2 * (R + L )\n",
    "D = 1/2 * (R - L )\n",
    "eta = c * k / w \n",
    "sin = np.sin(np.deg2rad(0))\n",
    "cos = np.cos(np.deg2rad(0))\n",
    "rhs =  (R*L*sin**2 + P *S *(1 + cos**2) -((R*L -P*S)**2 * cos**4 + 4 *P**2*D**2 * cos**2 )**0.5)/(2 *(S*sin**2 + P*cos**2))\n",
    "lhs = (k* c /w )**2\n",
    "#sym.solveset(lhs - rhs,k)"
   ]
  },
  {
   "cell_type": "code",
   "execution_count": 11,
   "id": "5ea66f0d",
   "metadata": {},
   "outputs": [
    {
     "data": {
      "text/latex": [
       "$\\displaystyle \\frac{- w^{3} \\left(\\frac{4.0 wce^{2} wpe^{4} \\left(w^{2} - wpe^{2}\\right)^{2} + \\left(- w \\left(w \\left(w - wce\\right) - wpe^{2}\\right) \\left(w \\left(w + wce\\right) - wpe^{2}\\right) + \\left(w^{2} - wpe^{2}\\right) \\left(1.0 w \\left(w - wce\\right) \\left(w + wce\\right) - 0.5 wpe^{2} \\left(w - wce\\right) - 0.5 wpe^{2} \\left(w + wce\\right)\\right)\\right)^{2}}{w^{6} \\left(w - wce\\right)^{2} \\left(w + wce\\right)^{2}}\\right)^{0.5} \\left(w - wce\\right) \\left(w + wce\\right) - \\left(w^{2} - wpe^{2}\\right) \\left(- 1.0 w \\left(w - wce\\right) \\left(w + wce\\right) + 0.5 wpe^{2} \\left(w - wce\\right) + 0.5 wpe^{2} \\left(w + wce\\right)\\right)}{2 w \\left(w - wce\\right) \\left(w + wce\\right) \\left(w^{2} - wpe^{2}\\right)}$"
      ],
      "text/plain": [
       "(-w**3*((4.0*wce**2*wpe**4*(w**2 - wpe**2)**2 + (-w*(w*(w - wce) - wpe**2)*(w*(w + wce) - wpe**2) + (w**2 - wpe**2)*(1.0*w*(w - wce)*(w + wce) - 0.5*wpe**2*(w - wce) - 0.5*wpe**2*(w + wce)))**2)/(w**6*(w - wce)**2*(w + wce)**2))**0.5*(w - wce)*(w + wce) - (w**2 - wpe**2)*(-1.0*w*(w - wce)*(w + wce) + 0.5*wpe**2*(w - wce) + 0.5*wpe**2*(w + wce)))/(2*w*(w - wce)*(w + wce)*(w**2 - wpe**2))"
      ]
     },
     "execution_count": 11,
     "metadata": {},
     "output_type": "execute_result"
    }
   ],
   "source": [
    "simplify((P *S *(1) -((R*L -P*S)**2 + 4 *P**2*D**2)**0.5)/(2 *(P)))"
   ]
  },
  {
   "cell_type": "code",
   "execution_count": null,
   "id": "0af0b923",
   "metadata": {},
   "outputs": [],
   "source": []
  },
  {
   "cell_type": "code",
   "execution_count": 9,
   "id": "59df2b47",
   "metadata": {},
   "outputs": [
    {
     "data": {
      "text/latex": [
       "$\\displaystyle \\frac{0.5 \\left(- w^{3} \\left(\\frac{4.0 wce^{2} wpe^{4} \\left(w^{2} - wpe^{2}\\right)^{2} + 1.0 \\left(- w \\left(w \\left(w - wce\\right) - wpe^{2}\\right) \\left(w \\left(w + wce\\right) - wpe^{2}\\right) + \\left(w^{2} - wpe^{2}\\right) \\left(1.0 w \\left(w - wce\\right) \\left(w + wce\\right) - 0.5 wpe^{2} \\left(w - wce\\right) - 0.5 wpe^{2} \\left(w + wce\\right)\\right)\\right)^{2}}{w^{6} \\left(w - wce\\right)^{2} \\left(w + wce\\right)^{2}}\\right)^{0.5} \\left(w - wce\\right) \\left(w + wce\\right) - 2.0 \\left(w^{2} - wpe^{2}\\right) \\left(- 1.0 w \\left(w - wce\\right) \\left(w + wce\\right) + 0.5 wpe^{2} \\left(w - wce\\right) + 0.5 wpe^{2} \\left(w + wce\\right)\\right)\\right)}{w \\left(w - wce\\right) \\left(w + wce\\right) \\left(w^{2} - wpe^{2}\\right)}$"
      ],
      "text/plain": [
       "0.5*(-w**3*((4.0*wce**2*wpe**4*(w**2 - wpe**2)**2 + 1.0*(-w*(w*(w - wce) - wpe**2)*(w*(w + wce) - wpe**2) + (w**2 - wpe**2)*(1.0*w*(w - wce)*(w + wce) - 0.5*wpe**2*(w - wce) - 0.5*wpe**2*(w + wce)))**2)/(w**6*(w - wce)**2*(w + wce)**2))**0.5*(w - wce)*(w + wce) - 2.0*(w**2 - wpe**2)*(-1.0*w*(w - wce)*(w + wce) + 0.5*wpe**2*(w - wce) + 0.5*wpe**2*(w + wce)))/(w*(w - wce)*(w + wce)*(w**2 - wpe**2))"
      ]
     },
     "execution_count": 9,
     "metadata": {},
     "output_type": "execute_result"
    }
   ],
   "source": [
    "from sympy import simplify\n",
    "simplify(rhs)"
   ]
  },
  {
   "cell_type": "code",
   "execution_count": 8,
   "id": "4e4ad4ad",
   "metadata": {},
   "outputs": [
    {
     "data": {
      "text/latex": [
       "$\\displaystyle -0.999999421653441$"
      ],
      "text/plain": [
       "-0.999999421653441"
      ]
     },
     "execution_count": 8,
     "metadata": {},
     "output_type": "execute_result"
    }
   ],
   "source": [
    "(D /(S - eta**2) ).subs({k:0.523782140483476*wpe/c})"
   ]
  },
  {
   "cell_type": "code",
   "execution_count": null,
   "id": "a209542e",
   "metadata": {},
   "outputs": [],
   "source": []
  },
  {
   "cell_type": "code",
   "execution_count": 5,
   "id": "62f5c0ba",
   "metadata": {},
   "outputs": [
    {
     "data": {
      "text/latex": [
       "$\\displaystyle \\frac{2163.33153055706 c^{2} k^{2}}{wpe^{2}} - 593.505096137266$"
      ],
      "text/plain": [
       "2163.33153055706*c**2*k**2/wpe**2 - 593.505096137266"
      ]
     },
     "execution_count": 5,
     "metadata": {},
     "output_type": "execute_result"
    }
   ],
   "source": [
    "lhs - rhs"
   ]
  },
  {
   "cell_type": "code",
   "execution_count": 3,
   "id": "f09fe361",
   "metadata": {},
   "outputs": [
    {
     "data": {
      "text/plain": [
       "10.631490712255168"
      ]
     },
     "execution_count": 3,
     "metadata": {},
     "output_type": "execute_result"
    }
   ],
   "source": [
    "# get density\n",
    "def getdensity(lat,n0):\n",
    "    return n0 * (np.cos(np.deg2rad(lat)))**-4\n",
    "\n",
    "getdensity(10,10)"
   ]
  },
  {
   "cell_type": "code",
   "execution_count": 4,
   "id": "d1fcc8ee",
   "metadata": {},
   "outputs": [
    {
     "data": {
      "text/plain": [
       "183944.91994280714"
      ]
     },
     "execution_count": 4,
     "metadata": {},
     "output_type": "execute_result"
    }
   ],
   "source": [
    "plasma_frequency(getdensity(lat = 10,n0 = 10),m = cst.Mp, q = cst.Charge)"
   ]
  },
  {
   "cell_type": "code",
   "execution_count": 37,
   "id": "0da37916",
   "metadata": {},
   "outputs": [
    {
     "name": "stdout",
     "output_type": "stream",
     "text": [
      "[Taichi] Starting on arch=arm64\n"
     ]
    },
    {
     "ename": "TaichiSyntaxError",
     "evalue": "Taichi functions cannot be called from Python-scope. (<string>)",
     "output_type": "error",
     "traceback": [
      "Traceback \u001b[0;36m(most recent call last)\u001b[0m:\n",
      "\u001b[0m  File \u001b[1;32m~/miniforge3/envs/taichi/lib/python3.8/site-packages/IPython/core/interactiveshell.py:3433\u001b[0m in \u001b[1;35mrun_code\u001b[0m\n    exec(code_obj, self.user_global_ns, self.user_ns)\u001b[0m\n",
      "\u001b[0m  Cell \u001b[1;32mIn[37], line 12\u001b[0m\n    ti.cos(ti.math.radians(v))\u001b[0m\n",
      "\u001b[0m  File \u001b[1;32m~/miniforge3/envs/taichi/lib/python3.8/site-packages/taichi/lang/kernel_impl.py:69\u001b[0m in \u001b[1;35mdecorated\u001b[0m\n    return fun.__call__(*args, **kwargs)\u001b[0m\n",
      "\u001b[0;36m  File \u001b[0;32m~/miniforge3/envs/taichi/lib/python3.8/site-packages/taichi/lang/kernel_impl.py:215\u001b[0;36m in \u001b[0;35m__call__\u001b[0;36m\n\u001b[0;31m    raise TaichiSyntaxError(\u001b[0;36m\n",
      "\u001b[0;36m  File \u001b[0;32m<string>\u001b[0;36m\u001b[0m\n\u001b[0;31mTaichiSyntaxError\u001b[0m\u001b[0;31m:\u001b[0m Taichi functions cannot be called from Python-scope.\n"
     ]
    }
   ],
   "source": [
    "import taichi as ti\n",
    "\n",
    "from math import pi\n",
    "#from taichi.math.mathimpl import radians\n",
    "# @ti.func\n",
    "# def a(lat):\n",
    "#     print(ti.math.radians(lat))\n",
    "#     return ti.math.radians(lat)\n",
    "ti.init()\n",
    "\n",
    "v = ti.Vector([1., 2., 3.])\n",
    "ti.cos(ti.math.radians(v))\n"
   ]
  },
  {
   "cell_type": "code",
   "execution_count": 1,
   "id": "1a043ece",
   "metadata": {},
   "outputs": [
    {
     "name": "stdout",
     "output_type": "stream",
     "text": [
      "[Taichi] version 1.3.0, llvm 16.0.0git, commit 0f25b95e, osx, python 3.8.15\n",
      "[I 12/29/22 22:03:48.885 2136767] [shell.py:_shell_pop_print@33] Graphical python shell detected, using wrapped sys.stdout\n"
     ]
    }
   ],
   "source": [
    "from taichiphysics import *\n"
   ]
  },
  {
   "cell_type": "code",
   "execution_count": 5,
   "id": "39869fc3",
   "metadata": {},
   "outputs": [
    {
     "name": "stdout",
     "output_type": "stream",
     "text": [
      "[Taichi] Starting on arch=arm64\n",
      "3.544908\n",
      "3.544908\n"
     ]
    }
   ],
   "source": [
    "ti.init()\n",
    "v = 1\n",
    "\n",
    "@ti.kernel\n",
    "def triple_array():\n",
    "    for i in range(2):\n",
    "        print(plasma_frequency(v,v,v))\n",
    "triple_array()\n"
   ]
  },
  {
   "cell_type": "code",
   "execution_count": 13,
   "id": "1182905f",
   "metadata": {},
   "outputs": [
    {
     "name": "stdout",
     "output_type": "stream",
     "text": [
      "Collecting scipy\n",
      "  Using cached scipy-1.9.3-cp38-cp38-macosx_12_0_arm64.whl (28.5 MB)\n",
      "Requirement already satisfied: numpy<1.26.0,>=1.18.5 in /Users/donglaima/miniforge3/envs/taichi/lib/python3.8/site-packages (from scipy) (1.23.5)\n",
      "Installing collected packages: scipy\n",
      "Successfully installed scipy-1.9.3\n"
     ]
    },
    {
     "data": {
      "image/png": "[encoded data removed]",
      "text/plain": [
       "<Figure size 640x480 with 1 Axes>"
      ]
     },
     "metadata": {},
     "output_type": "display_data"
    }
   ],
   "source": [
    "\n",
    "from scipy import integrate\n",
    "import matplotlib.pyplot as plt\n",
    "x = np.linspace(-2, 2, num=20)\n",
    "y = x\n",
    "y_int = integrate.cumulative_trapezoid(y, x, initial=0)\n",
    "plt.plot(x, y_int, 'ro', x, y[0] + 0.5 * x**2, 'b-')\n",
    "plt.show()"
   ]
  },
  {
   "cell_type": "code",
   "execution_count": 58,
   "id": "88c4a6b7",
   "metadata": {},
   "outputs": [
    {
     "name": "stdout",
     "output_type": "stream",
     "text": [
      "[0.875 1.875 2.875 3.875 4.875 5.875 6.875 7.875 8.875]\n",
      "[Taichi] Starting on arch=arm64\n",
      "3.875000000000 lat 0.875000000000\n",
      "4.875000000000 lat 1.875000000000\n",
      "5.875000000000 lat 2.875000000000\n",
      "6.875000000000 lat 3.875000000000\n",
      "7.875000000000 lat 4.875000000000\n",
      "8.875000000000 lat 5.875000000000\n",
      "9.875000000000 lat 6.875000000000\n",
      "10.875000000000 lat 7.875000000000\n",
      "11.875000000000 lat 8.875000000000\n",
      "3\n",
      "find 3\n",
      "3.325000000000\n"
     ]
    }
   ],
   "source": [
    "import taichi as ti\n",
    "test = np.arange(9) + 0.875\n",
    "print(test)\n",
    "ti.init(default_fp=ti.f64)\n",
    "\n",
    "lat = ti.field(dtype = ti.f64,shape = 9)\n",
    "lat.from_numpy(test)\n",
    "\n",
    "phiz = ti.field(dtype = ti.f64,shape = 9)\n",
    "phiz.from_numpy(test+ 3)\n",
    "@ti.func\n",
    "def interp(y,xx,x,n):\n",
    "    jl = -1\n",
    "    ju = n\n",
    "    jm = 0\n",
    "    j = 0\n",
    "    frac = 0.0\n",
    "    \n",
    "    ascnd = (xx[n - 1]>= xx[0])\n",
    "    #print(ascnd)\n",
    "    while ((ju - jl) > 1):\n",
    "        jm = ti.floor((ju + jl)/2,dtype = ti.i32)\n",
    "    \n",
    "        if ((x >= xx[jm]) == ascnd):\n",
    "            jl = jm\n",
    "        else:\n",
    "            ju = jm\n",
    "    print(jm)\n",
    "            \n",
    "    if (x == xx[0]):\n",
    "        j = 0\n",
    "    elif (x == xx[n-1]):\n",
    "        j = n-2\n",
    "    else:\n",
    "        j = jl\n",
    "    print('find',j)\n",
    "    if (j == -1):\n",
    "        frac = -1\n",
    "    elif (j == n-1):\n",
    "        frac = n-1\n",
    "    else:\n",
    "        frac = j + (x - xx[j]) / (xx[j + 1] - xx[j])\n",
    "        \n",
    "    \n",
    "        \n",
    "    return frac\n",
    "        \n",
    "        \n",
    "@ti.kernel\n",
    "def test():\n",
    "    for i in range(9):\n",
    "        print(phiz[i],'lat',lat[i])\n",
    "        \n",
    "    print(interp(phiz,lat,4.2,9))\n",
    "test()"
   ]
  },
  {
   "cell_type": "code",
   "execution_count": null,
   "id": "fc28cdf8",
   "metadata": {},
   "outputs": [],
   "source": [
    "#include \"locate.hpp\"\n",
    "\n",
    "void locate(const Vector& xx, const double x, double& fracIndex){\n",
    "  int ju, jm, jl, j;\n",
    "  bool ascnd; \n",
    "  \n",
    "  int n = xx.length(); \n",
    "  jl = -1; \n",
    "  ju = n; \n",
    "  ascnd = (xx(n - 1) >= xx(0)); \n",
    "  while (ju - jl > 1){\n",
    "    jm = (ju + jl) / 2;  \n",
    "    if (x >= xx(jm) == ascnd) jl = jm; \n",
    "    else ju = jm; \n",
    "  }\n",
    "    \n",
    "  if (x == xx(0)) j = 0; \n",
    "  else if (x == xx(n - 1)) j = n - 2; \n",
    "  else j = jl; \n",
    "\n",
    "  if (j == -1) fracIndex = -1; \n",
    "  else if (j == n - 1) fracIndex = n - 1; \n",
    "  else fracIndex =  j + (x - xx(j)) / (xx(j + 1) - xx(j)); \n",
    "  \n",
    "} \n"
   ]
  },
  {
   "cell_type": "code",
   "execution_count": 21,
   "id": "148aae68",
   "metadata": {},
   "outputs": [
    {
     "name": "stdout",
     "output_type": "stream",
     "text": [
      "erg 2.0347686e-08\n",
      "6.1262609838724984e-18\n"
     ]
    }
   ],
   "source": [
    "c = 3e10\n",
    "m = 9.1094e-28\n",
    "def ev2erg(ev):\n",
    "    erg = 1.60218e-12 * ev\n",
    "    return erg\n",
    "\n",
    "def erg2p(erg,m):\n",
    "    p = np.sqrt(erg*(erg + 2 * m*c**2))/ c\n",
    "    return p\n",
    "        \n",
    "erg = ev2erg(12.7*1000)\n",
    "print('erg',erg)\n",
    "print(erg2p(erg, m))\n",
    "p = erg2p(erg, m)"
   ]
  },
  {
   "cell_type": "code",
   "execution_count": 22,
   "id": "3b0ba21b",
   "metadata": {},
   "outputs": [
    {
     "name": "stdout",
     "output_type": "stream",
     "text": [
      "272370.6\n"
     ]
    }
   ],
   "source": [
    "print(1.7e-7*(1.60218e12))"
   ]
  },
  {
   "cell_type": "code",
   "execution_count": 23,
   "id": "6c8dc638",
   "metadata": {},
   "outputs": [
    {
     "name": "stdout",
     "output_type": "stream",
     "text": [
      "0.564455822190667 32.34093633311206\n"
     ]
    }
   ],
   "source": [
    "from taichiphysics import *\n",
    "alpha = get_pitchanlge_numpy(np.deg2rad(30),np.deg2rad(10),1)\n",
    "print(alpha,np.rad2deg(alpha))"
   ]
  },
  {
   "cell_type": "code",
   "execution_count": 24,
   "id": "01237e6f",
   "metadata": {},
   "outputs": [
    {
     "name": "stdout",
     "output_type": "stream",
     "text": [
      "5.175954380009605e-18\n"
     ]
    }
   ],
   "source": [
    "p_para = p * np.cos(alpha)\n",
    "print(p_para)"
   ]
  },
  {
   "cell_type": "code",
   "execution_count": 25,
   "id": "a6827a8b",
   "metadata": {},
   "outputs": [],
   "source": [
    "#p * np.sin(0.408556934)"
   ]
  },
  {
   "cell_type": "code",
   "execution_count": 26,
   "id": "c101df2c",
   "metadata": {},
   "outputs": [
    {
     "name": "stdout",
     "output_type": "stream",
     "text": [
      "498.79822425065504\n",
      "-12696.842812714447\n",
      "-0.18481289967738243\n"
     ]
    }
   ],
   "source": [
    "gammam = m * np.sqrt(1 + p**2 /(m**2 * c**2))\n",
    "gamma = np.sqrt(1 + p**2 /(m**2 * c**2))\n",
    "v_para = (-1 * p_para / gammam)\n",
    "w = 5092 * 2 *np.pi\n",
    "wce = 45800\n",
    "k = 2.38e-6\n",
    "print(w - k*v_para - (wce/gamma))\n",
    "print(w - wce/gamma)\n",
    "print(v_para/cst.C)"
   ]
  },
  {
   "cell_type": "code",
   "execution_count": 1,
   "id": "4ec37e95",
   "metadata": {},
   "outputs": [
    {
     "name": "stdout",
     "output_type": "stream",
     "text": [
      "[Taichi] version 1.3.0, llvm 16.0.0git, commit 0f25b95e, osx, python 3.8.15\n",
      "[I 01/02/23 22:40:10.743 2012028] [shell.py:_shell_pop_print@33] Graphical python shell detected, using wrapped sys.stdout\n",
      "[0.00000000e+00 2.61825570e-05 5.23651141e-05 ... 2.61747023e-01\n",
      " 2.61773205e-01 2.61799388e-01]\n",
      "(1, 10000)\n"
     ]
    },
    {
     "data": {
      "image/png": "[encoded data removed]",
      "text/plain": [
       "<Figure size 640x480 with 1 Axes>"
      ]
     },
     "metadata": {},
     "output_type": "display_data"
    }
   ],
   "source": [
    "# get k\n",
    "import matplotlib.pyplot as plt\n",
    "from wave import Waves\n",
    "import numpy as np\n",
    "Bw0 = 3e-6 # Gauss\n",
    "fwave = 980 #Hz\n",
    "nlat = 10000\n",
    "latmax = 15\n",
    "n0 =10\n",
    "L = 5\n",
    "nw = 1\n",
    "waves = Waves( 1, L, nlat, 0, latmax*np.pi/180, n0)\n",
    "Bw_lat = np.zeros((nw, nlat)) + Bw0\n",
    "waves.generate_parallel_wave(np.array([fwave *2 * np.pi]),Bw_lat)\n",
    "print(waves.k.shape)\n",
    "plt.plot(np.rad2deg(waves.lats),waves.ne_lats[:])\n",
    "#plt.plot(np.rad2deg(waves.lats),waves.phi_z[0,:])\n",
    "plt.show()"
   ]
  },
  {
   "cell_type": "code",
   "execution_count": 2,
   "id": "2235b8b7",
   "metadata": {},
   "outputs": [
    {
     "data": {
      "image/png": "[encoded data removed]",
      "text/plain": [
       "<Figure size 640x480 with 1 Axes>"
      ]
     },
     "metadata": {},
     "output_type": "display_data"
    }
   ],
   "source": [
    "plt.plot(np.rad2deg(waves.lats),waves.k[0,:])\n",
    "#plt.plot(np.rad2deg(waves.lats),waves.phi_z[0,:])\n",
    "plt.show()"
   ]
  },
  {
   "cell_type": "code",
   "execution_count": 2,
   "id": "387c79a5",
   "metadata": {},
   "outputs": [
    {
     "data": {
      "image/png": "[encoded data removed]",
      "text/plain": [
       "<Figure size 640x480 with 1 Axes>"
      ]
     },
     "metadata": {},
     "output_type": "display_data"
    }
   ],
   "source": [
    "plt.plot(np.rad2deg(waves.lats),waves.k[0,:])\n",
    "#plt.plot(np.rad2deg(waves.lats),waves.phi_z[0,:])\n",
    "plt.show()"
   ]
  },
  {
   "cell_type": "code",
   "execution_count": 3,
   "id": "12fd7ecd",
   "metadata": {},
   "outputs": [
    {
     "data": {
      "image/png": "[encoded data removed]",
      "text/plain": [
       "<Figure size 640x480 with 1 Axes>"
      ]
     },
     "metadata": {},
     "output_type": "display_data"
    }
   ],
   "source": [
    "#plt.plot(np.rad2deg(waves.lats),waves.k[0,:])\n",
    "plt.plot(np.rad2deg(waves.lats),waves.phi_z[0,:])\n",
    "plt.show()"
   ]
  },
  {
   "cell_type": "code",
   "execution_count": 10,
   "id": "5153e59d",
   "metadata": {},
   "outputs": [
    {
     "data": {
      "image/png": "[encoded data removed]",
      "text/plain": [
       "<Figure size 640x480 with 1 Axes>"
      ]
     },
     "metadata": {},
     "output_type": "display_data"
    }
   ],
   "source": [
    "plt.plot(np.rad2deg(waves.lats),waves.wpes[:])\n",
    "#plt.plot(np.rad2deg(waves.lats),waves.phi_z[0,:])\n",
    "plt.show()"
   ]
  },
  {
   "cell_type": "code",
   "execution_count": 10,
   "id": "79e8e383",
   "metadata": {},
   "outputs": [
    {
     "data": {
      "image/png": "[encoded data removed]",
      "text/plain": [
       "<Figure size 640x480 with 1 Axes>"
      ]
     },
     "metadata": {},
     "output_type": "display_data"
    }
   ],
   "source": [
    "plt.plot(np.rad2deg(waves.lats),waves.wces[:])\n",
    "#plt.plot(np.rad2deg(waves.lats),waves.phi_z[0,:])\n",
    "plt.show()"
   ]
  },
  {
   "cell_type": "code",
   "execution_count": 16,
   "id": "c7dc41f0",
   "metadata": {},
   "outputs": [
    {
     "data": {
      "text/plain": [
       "5.000002142878398"
      ]
     },
     "execution_count": 16,
     "metadata": {},
     "output_type": "execute_result"
    }
   ],
   "source": [
    "np.rad2deg(0.0872665)"
   ]
  },
  {
   "cell_type": "code",
   "execution_count": 82,
   "id": "ed170a11",
   "metadata": {},
   "outputs": [
    {
     "data": {
      "text/plain": [
       "2094.4790510893426"
      ]
     },
     "execution_count": 82,
     "metadata": {},
     "output_type": "execute_result"
    }
   ],
   "source": [
    "13160/np.pi/2"
   ]
  },
  {
   "cell_type": "code",
   "execution_count": 1,
   "id": "71765fa6",
   "metadata": {},
   "outputs": [
    {
     "name": "stdout",
     "output_type": "stream",
     "text": [
      "[Taichi] version 1.3.0, llvm 16.0.0git, commit 0f25b95e, osx, python 3.8.15\n",
      "[I 01/03/23 14:34:22.568 2369640] [shell.py:_shell_pop_print@33] Graphical python shell detected, using wrapped sys.stdout\n",
      "wave_number 2.3013276950957483e-06\n",
      "BB 0.0028572017653637613\n",
      "test energy: 1.6829540975021418e-07\n",
      "test energy from electron\n",
      "resonance freq 15065.439567254944\n",
      "test of eta 124.71513013608488\n",
      "c2k2/w2 125.71513013608488\n"
     ]
    },
    {
     "data": {
      "text/plain": [
       "<matplotlib.collections.LineCollection at 0x169dbcc10>"
      ]
     },
     "execution_count": 1,
     "metadata": {},
     "output_type": "execute_result"
    },
    {
     "data": {
      "image/png": "[encoded data removed]",
      "text/plain": [
       "<Figure size 640x480 with 1 Axes>"
      ]
     },
     "metadata": {},
     "output_type": "display_data"
    }
   ],
   "source": [
    "import numpy as np\n",
    "from taichiphysics import *\n",
    "import constants as cst\n",
    "from wave import get_dipole_numpy\n",
    "import sympy as sym\n",
    "from sympy import S\n",
    "import matplotlib.pyplot as plt\n",
    "\n",
    "def solve_resonance(reslat,frequency,pitch_equator,n0,L,v):\n",
    "    # get the density\n",
    "    \n",
    "    #n_lat = ge\n",
    "    # get the wce at res_lat\n",
    "    w = frequency\n",
    "    res_lat = np.deg2rad(reslat)\n",
    "    alpha0 = np.deg2rad(pitch_equator)\n",
    "    \n",
    "    n_lat = n0 * (np.cos(res_lat)**-4)\n",
    "    \n",
    "    wpe = np.sqrt(4 * np.pi * n_lat*cst.Charge**2/cst.Me)\n",
    "    wce =  cst.Charge *get_dipole_numpy(L, res_lat, cst.B0)/(cst.Me * cst.C)\n",
    "    \n",
    "    \n",
    "    RR = 1 - wpe**2 / ((w-wce) * w)\n",
    "    k = w *np.sqrt(RR) / cst.C\n",
    "    # calculate the pitch angle based on the equator\n",
    "    \n",
    "    alpha = get_pitchanlge_numpy(alpha0,res_lat,-1)\n",
    "    \n",
    "    #v = sym.Symbol('v')\n",
    "    lhs = w - k * v*np.cos(alpha)\n",
    "    #print(- k * v*np.cos(alpha))\n",
    "    print('wave_number',k)\n",
    "    rhs = wce*(1 - (v**2)/cst.C**2)**0.5\n",
    "    #print(rhs)\n",
    "\n",
    "    return lhs ,rhs\n",
    "\n",
    "    #return alpha\n",
    "v = np.linspace(5e7,2e10,1000)\n",
    "result_l,result_r = solve_resonance(10,980*2*np.pi,30,10,5,v)\n",
    "plt.plot(v/cst.C,result_l)\n",
    "plt.plot(v/cst.C,result_r)\n",
    "plt.xlabel('v/c')\n",
    "plt.vlines(0.196 ,0,60000)"
   ]
  },
  {
   "cell_type": "code",
   "execution_count": 2,
   "id": "af319d28",
   "metadata": {},
   "outputs": [
    {
     "data": {
      "text/plain": [
       "0.002496"
      ]
     },
     "execution_count": 2,
     "metadata": {},
     "output_type": "execute_result"
    }
   ],
   "source": [
    "L = 5\n",
    "B0 = 0.312 #Gauss\n",
    "B0 / 125"
   ]
  },
  {
   "cell_type": "code",
   "execution_count": 3,
   "id": "d5b6487d",
   "metadata": {},
   "outputs": [
    {
     "data": {
      "text/plain": [
       "43869.65552067096"
      ]
     },
     "execution_count": 3,
     "metadata": {},
     "output_type": "execute_result"
    }
   ],
   "source": [
    "cst.Charge * B0/125 / (cst.Me * cst.C) "
   ]
  },
  {
   "cell_type": "code",
   "execution_count": 48,
   "id": "51f05c76",
   "metadata": {},
   "outputs": [
    {
     "data": {
      "text/plain": [
       "-0.5650158489"
      ]
     },
     "execution_count": 48,
     "metadata": {},
     "output_type": "execute_result"
    }
   ],
   "source": [
    "-5650158489 /1e10"
   ]
  },
  {
   "cell_type": "code",
   "execution_count": 91,
   "id": "985a6c7f",
   "metadata": {},
   "outputs": [
    {
     "data": {
      "text/plain": [
       "50283.200000000004"
      ]
     },
     "execution_count": 91,
     "metadata": {},
     "output_type": "execute_result"
    }
   ],
   "source": [
    "1.76e7 * 0.002857"
   ]
  },
  {
   "cell_type": "code",
   "execution_count": 35,
   "id": "1f59c138",
   "metadata": {},
   "outputs": [
    {
     "name": "stdout",
     "output_type": "stream",
     "text": [
      "[Taichi] Starting on arch=arm64\n",
      "[0, 0, 0]\n",
      "[0, 1, 0]\n",
      "[0, 1, 2]\n",
      "[0, 0, 0]\n",
      "[0, 1, 0]\n",
      "[0, 1, 2]\n",
      "[0, 0, 0]\n",
      "[0, 1, 0]\n",
      "[0, 1, 2]\n",
      "[0, 0, 0]\n",
      "[0, 1, 0]\n",
      "[0, 1, 2]\n",
      "[0, 0, 0]\n",
      "[0, 1, 0]\n",
      "[0, 1, 2]\n",
      "[0, 0, 0]\n",
      "[0, 1, 0]\n",
      "[0, 1, 2]\n",
      "[0, 0, 0]\n",
      "[0, 1, 0]\n",
      "[0, 1, 2]\n",
      "[0, 0, 0]\n",
      "[0, 1, 0]\n",
      "[0, 1, 2]\n",
      "[0, 0, 0]\n",
      "[0, 1, 0]\n",
      "[0, 1, 2]\n",
      "[0, 0, 0]\n",
      "[0, 1, 0]\n",
      "[0, 1, 2]\n",
      "[0, 0, 0]\n",
      "[0, 1, 0]\n",
      "[0, 1, 2]\n",
      "[0, 0, 0]\n",
      "[0, 1, 0]\n",
      "[0, 1, 2]\n",
      "[0, 0, 0]\n",
      "[0, 1, 0]\n",
      "[0, 1, 2]\n",
      "[0, 0, 0]\n",
      "[0, 1, 0]\n",
      "[0, 1, 2]\n",
      "[0, 0, 0]\n",
      "[0, 1, 0]\n",
      "[0, 1, 2]\n",
      "[0, 0, 0]\n",
      "[0, 1, 0]\n",
      "[0, 1, 2]\n"
     ]
    }
   ],
   "source": [
    "import taichi as ti\n",
    "ti.init()\n",
    "x = ti.Vector.field(3, dtype=ti.i32, shape=16)\n",
    "@ti.kernel\n",
    "def fill():\n",
    "    for i in x:\n",
    "        for j in ti.static(range(3)):\n",
    "            x[i][j] = j\n",
    "            print(x[i])\n",
    "fill()"
   ]
  },
  {
   "cell_type": "code",
   "execution_count": 2,
   "id": "db4cd253",
   "metadata": {},
   "outputs": [
    {
     "name": "stdout",
     "output_type": "stream",
     "text": [
      "1.34 µs ± 4.99 ns per loop (mean ± std. dev. of 7 runs, 1,000,000 loops each)\n",
      "3.84 µs ± 92.6 ns per loop (mean ± std. dev. of 7 runs, 100,000 loops each)\n"
     ]
    },
    {
     "name": "stderr",
     "output_type": "stream",
     "text": [
      "/Users/donglaima/miniforge3/envs/taichi/lib/python3.8/site-packages/numpy/core/getlimits.py:500: UserWarning: The value of the smallest subnormal for <class 'numpy.float32'> type is zero.\n",
      "  setattr(self, word, getattr(machar, word).flat[0])\n",
      "/Users/donglaima/miniforge3/envs/taichi/lib/python3.8/site-packages/numpy/core/getlimits.py:89: UserWarning: The value of the smallest subnormal for <class 'numpy.float32'> type is zero.\n",
      "  return self._float_to_str(self.smallest_subnormal)\n"
     ]
    },
    {
     "name": "stdout",
     "output_type": "stream",
     "text": [
      "1.11 µs ± 2 ns per loop (mean ± std. dev. of 7 runs, 1,000,000 loops each)\n",
      "76.2 µs ± 1.32 µs per loop (mean ± std. dev. of 7 runs, 10,000 loops each)\n"
     ]
    }
   ],
   "source": [
    "import numba as nb\n",
    "@nb.jit()\n",
    "def nb_sum(a):\n",
    "    Sum = 0\n",
    "    for i in range(len(a)):\n",
    "        for k in range(10):\n",
    "            Sum +=a[k]\n",
    "        Sum += a[i]\n",
    "    return Sum\n",
    "\n",
    "# 没用numba加速的求和函数\n",
    "def py_sum(a):\n",
    "    Sum = 0\n",
    "    for i in range(len(a)):\n",
    "        for k in range(10):\n",
    "            Sum +=a[k]\n",
    "        Sum += a[i]\n",
    "    return Sum\n",
    "import numpy as np\n",
    "a = np.linspace(0,100,100) # 创建一个长度为100的数组\n",
    "\n",
    "%timeit np.sum(a) # numpy自带的求和函数\n",
    "%timeit sum(a) # python自带的求和函数\n",
    "%timeit nb_sum(a) # numba加速的求和函数\n",
    "%timeit py_sum(a) # 没加速的求和函数"
   ]
  },
  {
   "cell_type": "code",
   "execution_count": null,
   "id": "2f3879a5",
   "metadata": {},
   "outputs": [],
   "source": []
  },
  {
   "cell_type": "code",
   "execution_count": 3,
   "id": "1aa5d0ec",
   "metadata": {},
   "outputs": [],
   "source": [
    "a = np.linspace(0,100,10**7) # 创建一个长度为1000万的数组\n"
   ]
  },
  {
   "cell_type": "code",
   "execution_count": 4,
   "id": "1ef0255e",
   "metadata": {},
   "outputs": [
    {
     "name": "stdout",
     "output_type": "stream",
     "text": [
      "1.85 ms ± 8.14 µs per loop (mean ± std. dev. of 7 runs, 1,000 loops each)\n",
      "363 ms ± 8.54 ms per loop (mean ± std. dev. of 7 runs, 1 loop each)\n",
      "103 ms ± 131 µs per loop (mean ± std. dev. of 7 runs, 10 loops each)\n",
      "7.63 s ± 123 ms per loop (mean ± std. dev. of 7 runs, 1 loop each)\n"
     ]
    }
   ],
   "source": [
    "%timeit np.sum(a) # numpy自带的求和函数\n",
    "%timeit sum(a) # python自带的求和函数\n",
    "%timeit nb_sum(a) # numba加速的求和函数\n",
    "%timeit py_sum(a) #"
   ]
  },
  {
   "cell_type": "code",
   "execution_count": 5,
   "id": "6bb05a33",
   "metadata": {},
   "outputs": [
    {
     "name": "stdout",
     "output_type": "stream",
     "text": [
      "[Taichi] Starting on arch=arm64\n",
      "14.6 ms ± 14.7 µs per loop (mean ± std. dev. of 7 runs, 100 loops each)\n"
     ]
    }
   ],
   "source": [
    "import taichi as ti\n",
    "ti.init(default_fp=ti.f64)\n",
    "a_ti = ti.field(dtype = ti.f64,shape = (10**7,))\n",
    "a_ti.from_numpy(a)\n",
    "@ti.kernel\n",
    "def ti_sum():\n",
    "    Sum = 0.0\n",
    "    for i in range(10**7):\n",
    "        for k in range(10):\n",
    "            Sum+=a_ti[k]\n",
    "        Sum+=a_ti[i]\n",
    "%timeit ti_sum()"
   ]
  },
  {
   "cell_type": "code",
   "execution_count": null,
   "id": "b7601527",
   "metadata": {},
   "outputs": [],
   "source": []
  },
  {
   "cell_type": "code",
   "execution_count": 6,
   "id": "d733e5d5",
   "metadata": {},
   "outputs": [
    {
     "name": "stdout",
     "output_type": "stream",
     "text": [
      "[Taichi] Starting on arch=arm64\n",
      "[I 01/03/23 11:57:03.714 2291469] [vulkan_device_creator.cpp:pick_physical_device@399] Found Vulkan Device 0 (Apple M1 Pro)\n",
      "[I 01/03/23 11:57:03.714 2291469] [vulkan_device_creator.cpp:create_logical_device@469] Vulkan Device \"Apple M1 Pro\" supports Vulkan 0 version 1.1.216\n",
      "[W 01/03/23 11:57:03.714 2291469] [vulkan_device_creator.cpp:create_logical_device@510] Potential non-conformant Vulkan implementation, enabling VK_KHR_portability_subset\n",
      "[W 01/03/23 11:57:03.714 2291469] [vulkan_device_creator.cpp:create_logical_device@585] Taichi GPU GUI requires wide lines support\n",
      "[I 01/03/23 11:57:03.813 2291469] [vulkan_device.cpp:create_swap_chain@2429] Creating suface of 2048x1972\n"
     ]
    },
    {
     "name": "stderr",
     "output_type": "stream",
     "text": [
      "/var/folders/kq/xpyfw9qn6p516fhr86kffkrh0000gn/T/ipykernel_44256/582720476.py:102: DeprecationWarning: Calling builtin function \"min\" in Taichi scope is deprecated. Please use \"ti.min\" instead.\n",
      "  v[i] -= min(v[i].dot(normal), 0) * normal\n"
     ]
    },
    {
     "name": "stdout",
     "output_type": "stream",
     "text": [
      "[W 01/03/23 11:57:04.983 2291469] [vulkan_device.cpp:buffer@620] Overriding last binding\n",
      "[W 01/03/23 11:57:04.996 2291469] [vulkan_device.cpp:buffer@620] Overriding last binding\n"
     ]
    }
   ],
   "source": [
    "import taichi as ti\n",
    "ti.init(arch=ti.cpu)  # Alternatively, ti.init(arch=ti.cpu)\n",
    "\n",
    "n = 128\n",
    "quad_size = 1.0 / n\n",
    "dt = 4e-2 / n\n",
    "substeps = int(1 / 60 // dt)\n",
    "\n",
    "gravity = ti.Vector([0, -9.8, 0])\n",
    "spring_Y = 3e4\n",
    "dashpot_damping = 1e4\n",
    "drag_damping = 1\n",
    "\n",
    "ball_radius = 0.3\n",
    "ball_center = ti.Vector.field(3, dtype=float, shape=(1, ))\n",
    "ball_center[0] = [0, 0, 0]\n",
    "\n",
    "x = ti.Vector.field(3, dtype=float, shape=(n, n))\n",
    "v = ti.Vector.field(3, dtype=float, shape=(n, n))\n",
    "\n",
    "num_triangles = (n - 1) * (n - 1) * 2\n",
    "indices = ti.field(int, shape=num_triangles * 3)\n",
    "vertices = ti.Vector.field(3, dtype=float, shape=n * n)\n",
    "colors = ti.Vector.field(3, dtype=float, shape=n * n)\n",
    "\n",
    "bending_springs = False\n",
    "\n",
    "@ti.kernel\n",
    "def initialize_mass_points():\n",
    "    random_offset = ti.Vector([ti.random() - 0.5, ti.random() - 0.5]) * 0.1\n",
    "\n",
    "    for i, j in x:\n",
    "        x[i, j] = [\n",
    "            i * quad_size - 0.5 + random_offset[0], 0.6,\n",
    "            j * quad_size - 0.5 + random_offset[1]\n",
    "        ]\n",
    "        v[i, j] = [0, 0, 0]\n",
    "\n",
    "\n",
    "@ti.kernel\n",
    "def initialize_mesh_indices():\n",
    "    for i, j in ti.ndrange(n - 1, n - 1):\n",
    "        quad_id = (i * (n - 1)) + j\n",
    "        # 1st triangle of the square\n",
    "        indices[quad_id * 6 + 0] = i * n + j\n",
    "        indices[quad_id * 6 + 1] = (i + 1) * n + j\n",
    "        indices[quad_id * 6 + 2] = i * n + (j + 1)\n",
    "        # 2nd triangle of the square\n",
    "        indices[quad_id * 6 + 3] = (i + 1) * n + j + 1\n",
    "        indices[quad_id * 6 + 4] = i * n + (j + 1)\n",
    "        indices[quad_id * 6 + 5] = (i + 1) * n + j\n",
    "\n",
    "    for i, j in ti.ndrange(n, n):\n",
    "        if (i // 4 + j // 4) % 2 == 0:\n",
    "            colors[i * n + j] = (0.22, 0.72, 0.52)\n",
    "        else:\n",
    "            colors[i * n + j] = (1, 0.334, 0.52)\n",
    "\n",
    "initialize_mesh_indices()\n",
    "\n",
    "spring_offsets = []\n",
    "if bending_springs:\n",
    "    for i in range(-1, 2):\n",
    "        for j in range(-1, 2):\n",
    "            if (i, j) != (0, 0):\n",
    "                spring_offsets.append(ti.Vector([i, j]))\n",
    "\n",
    "else:\n",
    "    for i in range(-2, 3):\n",
    "        for j in range(-2, 3):\n",
    "            if (i, j) != (0, 0) and abs(i) + abs(j) <= 2:\n",
    "                spring_offsets.append(ti.Vector([i, j]))\n",
    "\n",
    "@ti.kernel\n",
    "def substep():\n",
    "    for i in ti.grouped(x):\n",
    "        v[i] += gravity * dt\n",
    "\n",
    "    for i in ti.grouped(x):\n",
    "        force = ti.Vector([0.0, 0.0, 0.0])\n",
    "        for spring_offset in ti.static(spring_offsets):\n",
    "            j = i + spring_offset\n",
    "            if 0 <= j[0] < n and 0 <= j[1] < n:\n",
    "                x_ij = x[i] - x[j]\n",
    "                v_ij = v[i] - v[j]\n",
    "                d = x_ij.normalized()\n",
    "                current_dist = x_ij.norm()\n",
    "                original_dist = quad_size * float(i - j).norm()\n",
    "                # Spring force\n",
    "                force += -spring_Y * d * (current_dist / original_dist - 1)\n",
    "                # Dashpot damping\n",
    "                force += -v_ij.dot(d) * d * dashpot_damping * quad_size\n",
    "\n",
    "        v[i] += force * dt\n",
    "\n",
    "    for i in ti.grouped(x):\n",
    "        v[i] *= ti.exp(-drag_damping * dt)\n",
    "        offset_to_center = x[i] - ball_center[0]\n",
    "        if offset_to_center.norm() <= ball_radius:\n",
    "            # Velocity projection\n",
    "            normal = offset_to_center.normalized()\n",
    "            v[i] -= min(v[i].dot(normal), 0) * normal\n",
    "        x[i] += dt * v[i]\n",
    "\n",
    "@ti.kernel\n",
    "def update_vertices():\n",
    "    for i, j in ti.ndrange(n, n):\n",
    "        vertices[i * n + j] = x[i, j]\n",
    "\n",
    "window = ti.ui.Window(\"Taichi Cloth Simulation on GGUI\", (1024, 1024),\n",
    "                      vsync=True)\n",
    "canvas = window.get_canvas()\n",
    "canvas.set_background_color((1, 1, 1))\n",
    "scene = ti.ui.Scene()\n",
    "camera = ti.ui.Camera()\n",
    "\n",
    "current_t = 0.0\n",
    "initialize_mass_points()\n",
    "\n",
    "while window.running:\n",
    "    if current_t > 1.5:\n",
    "        # Reset\n",
    "        initialize_mass_points()\n",
    "        current_t = 0\n",
    "\n",
    "    for i in range(substeps):\n",
    "        substep()\n",
    "        current_t += dt\n",
    "    update_vertices()\n",
    "\n",
    "    camera.position(0.0, 0.0, 3)\n",
    "    camera.lookat(0.0, 0.0, 0)\n",
    "    scene.set_camera(camera)\n",
    "\n",
    "    scene.point_light(pos=(0, 1, 2), color=(1, 1, 1))\n",
    "    scene.ambient_light((0.5, 0.5, 0.5))\n",
    "    scene.mesh(vertices,\n",
    "               indices=indices,\n",
    "               per_vertex_color=colors,\n",
    "               two_sided=True)\n",
    "\n",
    "    # Draw a smaller ball to avoid visual penetration\n",
    "    scene.particles(ball_center, radius=ball_radius * 0.95, color=(0.5, 0.42, 0.8))\n",
    "    canvas.scene(scene)\n",
    "    window.show()"
   ]
  },
  {
   "cell_type": "code",
   "execution_count": null,
   "id": "bbd8cce3",
   "metadata": {},
   "outputs": [],
   "source": []
  }
 ],
 "metadata": {
  "kernelspec": {
   "display_name": "Python 3 (ipykernel)",
   "language": "python",
   "name": "python3"
  },
  "language_info": {
   "codemirror_mode": {
    "name": "ipython",
    "version": 3
   },
   "file_extension": ".py",
   "mimetype": "text/x-python",
   "name": "python",
   "nbconvert_exporter": "python",
   "pygments_lexer": "ipython3",
   "version": "3.8.15"
  }
 },
 "nbformat": 4,
 "nbformat_minor": 5
}
