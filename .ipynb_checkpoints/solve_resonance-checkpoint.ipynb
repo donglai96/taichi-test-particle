{
 "cells": [
  {
   "cell_type": "code",
   "execution_count": 4,
   "id": "ae9f3b92",
   "metadata": {},
   "outputs": [
    {
     "name": "stdout",
     "output_type": "stream",
     "text": [
      "5.374004690415652e-18\n",
      "5.374004690415652e-18\n",
      "0.19295152813439975\n",
      "5.3740046904156515e-18\n"
     ]
    }
   ],
   "source": [
    "import numpy as np\n",
    "\n",
    "# Gauss unit\n",
    "C = 3e10\n",
    "M = 9.1094e-28 \n",
    "Q = 4.8032e-10\n",
    "B0 = 0.312\n",
    "# some functions\n",
    "def get_dipole_Bz(L, z, B0):\n",
    "    # get the field vector\n",
    "    # z: latitdue in rad\n",
    "    # B0 : earth surface equator, Gauss\n",
    "    lat = z\n",
    "    cos_lat = np.cos(lat)\n",
    "    sin_lat = np.sin(lat)\n",
    "    Bz = B0/(L**3 * cos_lat**6) * np.sqrt(1 + 3 * sin_lat ** 2)\n",
    "    return Bz\n",
    "\n",
    "def get_equator_pitchangle(alpha,lat):\n",
    "    return np.arcsin( (1 + 3 * np.sin(lat)**2)**( -0.25) * np.cos(lat)**3 * np.sin(alpha) )\n",
    "\n",
    "def get_pitchanlge_numpy(alpha0,lat,signpb):\n",
    "    tmp = (1 + 3 * np.sin(lat)**2)**0.25 / np.cos(lat)**3 * np.sin(alpha0)\n",
    "    alpha = np.arcsin(tmp)\n",
    "    if signpb< 0:\n",
    "        alpha = np.pi - alpha\n",
    "    return alpha\n",
    "\n",
    "def ev2erg(ev):\n",
    "    return ev * 1.60218e-12\n",
    "def erg2ev(erg):\n",
    "    return erg / 1.60218e-12\n",
    "def e2p(e, E0=M*C**2):\n",
    "    return np.sqrt(e * (e + 2 * E0)) / C \n",
    "\n",
    "def p2e(p, E0=M*C**2):\n",
    "    return np.sqrt(p**2 * C**2 + E0**2) - E0 \n",
    "\n",
    "def p2v(p,m= M):\n",
    "    gamma_m = m * np.sqrt(1 + p**2 /(m * m*C**2)) \n",
    "    return p/gamma_m\n",
    "\n",
    "def v2p(v,m = M):\n",
    "    gamma_m = m * 1 / np.sqrt(1 - v**2 / C**2)\n",
    "    return gamma_m * v\n",
    "    \n",
    "print(e2p(ev2erg(9800)))\n",
    "p = e2p(ev2erg(9800))\n",
    "print(p)\n",
    "print(p2v(p)/C)\n",
    "print(v2p(0.19295152813439975 * C ))\n",
    "\n"
   ]
  },
  {
   "cell_type": "code",
   "execution_count": 7,
   "id": "4326c35e",
   "metadata": {},
   "outputs": [
    {
     "name": "stdout",
     "output_type": "stream",
     "text": [
      "w/wce 0.12261550498173647\n",
      "w should be  -1.94434536736611e-6*v + 50218.1318908498*(1 - 1.11111111111111e-21*v**2)**0.5\n",
      "w is  6157.52160102532\n"
     ]
    }
   ],
   "source": [
    "import sympy as sym\n",
    "\n",
    "v_check = sym.Symbol('v')\n",
    "def solve_resonance(reslat,frequency,pitch_equator,n0,L,v):\n",
    "\n",
    "    w = frequency\n",
    "    alpha0 = pitch_equator\n",
    "    \n",
    "    n_lat = n0 * (np.cos(reslat)**-4)\n",
    "    \n",
    "    wpe = np.sqrt(4 * np.pi * n_lat*Q**2/M)\n",
    "    wce =  Q *get_dipole_Bz(L, reslat, B0)/(M*C)\n",
    "    print('w/wce',w/wce)\n",
    "    RR = 1 - wpe**2 / ((w-wce) * w)\n",
    "    k = w *np.sqrt(RR) / C\n",
    "    # calculate the pitch angle based on the equator\n",
    "    \n",
    "    alpha = get_pitchanlge_numpy(alpha0,reslat,-1)\n",
    "    \n",
    "    lhs = w - k * v*np.cos(alpha)\n",
    "    rhs = wce*(1 - (v**2)/C**2)**0.5\n",
    "    print('w should be ',wce*(1 - (v**2)/C**2)**0.5 +  k * v*np.cos(alpha))\n",
    "    #print('w is ',(wce*(1 - (v**2)/C**2)**0.5 +  k * v*np.cos(alpha)).subs({v:17691742661.8}))\n",
    "    return lhs ,rhs\n",
    "\n",
    "\n",
    "\n",
    "reslat = np.deg2rad(10)\n",
    "pitch_angle_equator = np.deg2rad(30)\n",
    "\n",
    "frequency = 980*2 *np.pi\n",
    "\n",
    "n0 = 10\n",
    "L = 6\n",
    "\n",
    "estimated_v = 0.193* C\n",
    "#v_check = np.linspace(0.01*C, 0.95 *C,100000)\n",
    "#v_check = np.array([p2v(p),0.3*C,0.4 * C])\n",
    "lhs,rhs = solve_resonance(reslat,frequency,pitch_angle_equator,n0,L,v_check)"
   ]
  },
  {
   "cell_type": "code",
   "execution_count": 6,
   "id": "fb052305",
   "metadata": {},
   "outputs": [
    {
     "data": {
      "text/plain": [
       "[17691742661.7966]"
      ]
     },
     "execution_count": 6,
     "metadata": {},
     "output_type": "execute_result"
    }
   ],
   "source": [
    "sym.solve(lhs - rhs, v_check)"
   ]
  },
  {
   "cell_type": "code",
   "execution_count": null,
   "id": "fb80199b",
   "metadata": {},
   "outputs": [],
   "source": []
  },
  {
   "cell_type": "code",
   "execution_count": 8,
   "id": "6c531b16",
   "metadata": {},
   "outputs": [
    {
     "data": {
      "text/plain": [
       "1.9955460821224305e-17"
      ]
     },
     "execution_count": 8,
     "metadata": {},
     "output_type": "execute_result"
    }
   ],
   "source": [
    "v2p(17691742661.7966)"
   ]
  },
  {
   "cell_type": "code",
   "execution_count": null,
   "id": "678b7d22",
   "metadata": {},
   "outputs": [],
   "source": []
  },
  {
   "cell_type": "code",
   "execution_count": 9,
   "id": "d0e68b99",
   "metadata": {},
   "outputs": [
    {
     "data": {
      "text/plain": [
       "1.9531203629024992e-07"
      ]
     },
     "execution_count": 9,
     "metadata": {},
     "output_type": "execute_result"
    }
   ],
   "source": [
    "p2e(v2p(17691742661.7966))"
   ]
  },
  {
   "cell_type": "code",
   "execution_count": 10,
   "id": "b08e335c",
   "metadata": {},
   "outputs": [
    {
     "data": {
      "text/plain": [
       "121903.92857871769"
      ]
     },
     "execution_count": 10,
     "metadata": {},
     "output_type": "execute_result"
    }
   ],
   "source": [
    "erg2ev(p2e(v2p(17691742661.7966)))"
   ]
  },
  {
   "cell_type": "code",
   "execution_count": null,
   "id": "93a99e7a",
   "metadata": {},
   "outputs": [],
   "source": [
    "def interp(xx,x,n):\n",
    "    jl = -1\n",
    "    ju = n\n",
    "    jm = 0\n",
    "    j = 0\n",
    "    frac = 0.0\n",
    "    \n",
    "    ascnd = (xx[n - 1]>= xx[0])\n",
    "    #print(ascnd)\n",
    "    while ((ju - jl) > 1):\n",
    "        jm = np.floor((ju + jl)/2)\n",
    "    \n",
    "        if ((x >= xx[jm]) == ascnd):\n",
    "            jl = jm\n",
    "        else:\n",
    "            ju = jm\n",
    "    #print(jm)\n",
    "            \n",
    "    if (x == xx[0]):\n",
    "        j = 0\n",
    "    elif (x == xx[n-1]):\n",
    "        j = n-2\n",
    "    else:\n",
    "        j = jl\n",
    "    #print('find',j)\n",
    "    if (j == -1):\n",
    "        frac = -1\n",
    "    elif (j == n-1):\n",
    "        frac = n-1\n",
    "    else:\n",
    "        frac = j + (x - xx[j]) / (xx[j + 1] - xx[j])\n",
    "        \n",
    "    \n",
    "        \n",
    "    return frac"
   ]
  }
 ],
 "metadata": {
  "kernelspec": {
   "display_name": "Python 3 (ipykernel)",
   "language": "python",
   "name": "python3"
  },
  "language_info": {
   "codemirror_mode": {
    "name": "ipython",
    "version": 3
   },
   "file_extension": ".py",
   "mimetype": "text/x-python",
   "name": "python",
   "nbconvert_exporter": "python",
   "pygments_lexer": "ipython3",
   "version": "3.8.15"
  }
 },
 "nbformat": 4,
 "nbformat_minor": 5
}
