{
 "cells": [
  {
   "cell_type": "markdown",
   "id": "77bf342c",
   "metadata": {},
   "source": [
    "# Solve dispersion\n",
    "\n",
    "Given $\\omega$ and information of background,\n",
    "\n",
    "solve the wave number of the particle\n",
    "\n",
    "frequency = 980Hz\n"
   ]
  },
  {
   "cell_type": "code",
   "execution_count": 1,
   "id": "44e41d18",
   "metadata": {},
   "outputs": [],
   "source": [
    "import numpy as np\n",
    "from taichiphysics import *\n",
    "import constants as cst\n",
    "def get_resonance(N, w, k , wce, gamma):\n",
    "    \n",
    "    \n",
    "    v_para =( w - N * wce/ gamma ) /k\n",
    "    return v_para"
   ]
  },
  {
   "cell_type": "code",
   "execution_count": 2,
   "id": "b37c521e",
   "metadata": {},
   "outputs": [
    {
     "data": {
      "text/latex": [
       "$\\displaystyle \\left\\{- \\frac{0.523782140483476 wpe}{c}, \\frac{0.523782140483476 wpe}{c}\\right\\}$"
      ],
      "text/plain": [
       "{-0.523782140483476*wpe/c, 0.523782140483476*wpe/c}"
      ]
     },
     "execution_count": 2,
     "metadata": {},
     "output_type": "execute_result"
    }
   ],
   "source": [
    "import sympy as sym\n",
    "import numpy as np\n",
    "\n",
    "wpe = sym.Symbol('wpe')\n",
    "c = sym.Symbol('c')\n",
    "k = sym.Symbol('k')\n",
    "w = 0.0215* wpe\n",
    "wce = 0.1 * wpe\n",
    "R = 1 - (wpe**2)/(w*(w - wce))\n",
    "L = 1 - (wpe**2)/(w*(w + wce)) \n",
    "P = 1 - (wpe**2)/(w**2)\n",
    "S = 1/2 * (R + L )\n",
    "D = 1/2 * (R - L )\n",
    "eta = c * k / w \n",
    "sin = np.sin(np.deg2rad(0))\n",
    "cos = np.cos(np.deg2rad(0))\n",
    "rhs =  (R*L*sin**2 + P *S *(1 + cos**2) -((R*L -P*S)**2 * cos**4 + 4 *P**2*D**2 * cos**2 )**0.5)/(2 *(S*sin**2 + P*cos**2))\n",
    "lhs = (k* c /w )**2\n",
    "sym.solveset(lhs - rhs,k)"
   ]
  },
  {
   "cell_type": "code",
   "execution_count": 8,
   "id": "16fadc41",
   "metadata": {},
   "outputs": [
    {
     "data": {
      "text/latex": [
       "$\\displaystyle -0.999999421653441$"
      ],
      "text/plain": [
       "-0.999999421653441"
      ]
     },
     "execution_count": 8,
     "metadata": {},
     "output_type": "execute_result"
    }
   ],
   "source": [
    "(D /(S - eta**2) ).subs({k:0.523782140483476*wpe/c})"
   ]
  },
  {
   "cell_type": "code",
   "execution_count": null,
   "id": "3b164cee",
   "metadata": {},
   "outputs": [],
   "source": []
  },
  {
   "cell_type": "code",
   "execution_count": 5,
   "id": "9737006b",
   "metadata": {},
   "outputs": [
    {
     "data": {
      "text/latex": [
       "$\\displaystyle \\frac{2163.33153055706 c^{2} k^{2}}{wpe^{2}} - 593.505096137266$"
      ],
      "text/plain": [
       "2163.33153055706*c**2*k**2/wpe**2 - 593.505096137266"
      ]
     },
     "execution_count": 5,
     "metadata": {},
     "output_type": "execute_result"
    }
   ],
   "source": [
    "lhs - rhs"
   ]
  },
  {
   "cell_type": "code",
   "execution_count": 3,
   "id": "98fc5f8b",
   "metadata": {},
   "outputs": [
    {
     "data": {
      "text/plain": [
       "10.631490712255168"
      ]
     },
     "execution_count": 3,
     "metadata": {},
     "output_type": "execute_result"
    }
   ],
   "source": [
    "# get density\n",
    "def getdensity(lat,n0):\n",
    "    return n0 * (np.cos(np.deg2rad(lat)))**-4\n",
    "\n",
    "getdensity(10,10)"
   ]
  },
  {
   "cell_type": "code",
   "execution_count": 4,
   "id": "15df902e",
   "metadata": {},
   "outputs": [
    {
     "data": {
      "text/plain": [
       "183944.91994280714"
      ]
     },
     "execution_count": 4,
     "metadata": {},
     "output_type": "execute_result"
    }
   ],
   "source": [
    "plasma_frequency(getdensity(lat = 10,n0 = 10),m = cst.Mp, q = cst.Charge)"
   ]
  },
  {
   "cell_type": "code",
   "execution_count": 37,
   "id": "132f3e7c",
   "metadata": {},
   "outputs": [
    {
     "name": "stdout",
     "output_type": "stream",
     "text": [
      "[Taichi] Starting on arch=arm64\n"
     ]
    },
    {
     "ename": "TaichiSyntaxError",
     "evalue": "Taichi functions cannot be called from Python-scope. (<string>)",
     "output_type": "error",
     "traceback": [
      "Traceback \u001b[0;36m(most recent call last)\u001b[0m:\n",
      "\u001b[0m  File \u001b[1;32m~/miniforge3/envs/taichi/lib/python3.8/site-packages/IPython/core/interactiveshell.py:3433\u001b[0m in \u001b[1;35mrun_code\u001b[0m\n    exec(code_obj, self.user_global_ns, self.user_ns)\u001b[0m\n",
      "\u001b[0m  Cell \u001b[1;32mIn[37], line 12\u001b[0m\n    ti.cos(ti.math.radians(v))\u001b[0m\n",
      "\u001b[0m  File \u001b[1;32m~/miniforge3/envs/taichi/lib/python3.8/site-packages/taichi/lang/kernel_impl.py:69\u001b[0m in \u001b[1;35mdecorated\u001b[0m\n    return fun.__call__(*args, **kwargs)\u001b[0m\n",
      "\u001b[0;36m  File \u001b[0;32m~/miniforge3/envs/taichi/lib/python3.8/site-packages/taichi/lang/kernel_impl.py:215\u001b[0;36m in \u001b[0;35m__call__\u001b[0;36m\n\u001b[0;31m    raise TaichiSyntaxError(\u001b[0;36m\n",
      "\u001b[0;36m  File \u001b[0;32m<string>\u001b[0;36m\u001b[0m\n\u001b[0;31mTaichiSyntaxError\u001b[0m\u001b[0;31m:\u001b[0m Taichi functions cannot be called from Python-scope.\n"
     ]
    }
   ],
   "source": [
    "import taichi as ti\n",
    "\n",
    "from math import pi\n",
    "#from taichi.math.mathimpl import radians\n",
    "# @ti.func\n",
    "# def a(lat):\n",
    "#     print(ti.math.radians(lat))\n",
    "#     return ti.math.radians(lat)\n",
    "ti.init()\n",
    "\n",
    "v = ti.Vector([1., 2., 3.])\n",
    "ti.cos(ti.math.radians(v))\n"
   ]
  },
  {
   "cell_type": "code",
   "execution_count": 1,
   "id": "b8d08548",
   "metadata": {},
   "outputs": [
    {
     "name": "stdout",
     "output_type": "stream",
     "text": [
      "[Taichi] version 1.3.0, llvm 16.0.0git, commit 0f25b95e, osx, python 3.8.15\n",
      "[I 12/29/22 22:03:48.885 2136767] [shell.py:_shell_pop_print@33] Graphical python shell detected, using wrapped sys.stdout\n"
     ]
    }
   ],
   "source": [
    "from taichiphysics import *\n"
   ]
  },
  {
   "cell_type": "code",
   "execution_count": 4,
   "id": "685a4cf8",
   "metadata": {},
   "outputs": [
    {
     "name": "stdout",
     "output_type": "stream",
     "text": [
      "[Taichi] Starting on arch=arm64\n"
     ]
    },
    {
     "ename": "TaichiSyntaxError",
     "evalue": "Taichi functions cannot be called from Python-scope. (<string>)",
     "output_type": "error",
     "traceback": [
      "Traceback \u001b[0;36m(most recent call last)\u001b[0m:\n",
      "\u001b[0m  File \u001b[1;32m~/miniforge3/envs/taichi/lib/python3.8/site-packages/IPython/core/interactiveshell.py:3433\u001b[0m in \u001b[1;35mrun_code\u001b[0m\n    exec(code_obj, self.user_global_ns, self.user_ns)\u001b[0m\n",
      "\u001b[0m  Cell \u001b[1;32mIn[4], line 8\u001b[0m\n    plasma_frequency(v,v,v)\u001b[0m\n",
      "\u001b[0m  File \u001b[1;32m~/miniforge3/envs/taichi/lib/python3.8/site-packages/taichi/lang/kernel_impl.py:69\u001b[0m in \u001b[1;35mdecorated\u001b[0m\n    return fun.__call__(*args, **kwargs)\u001b[0m\n",
      "\u001b[0;36m  File \u001b[0;32m~/miniforge3/envs/taichi/lib/python3.8/site-packages/taichi/lang/kernel_impl.py:215\u001b[0;36m in \u001b[0;35m__call__\u001b[0;36m\n\u001b[0;31m    raise TaichiSyntaxError(\u001b[0;36m\n",
      "\u001b[0;36m  File \u001b[0;32m<string>\u001b[0;36m\u001b[0m\n\u001b[0;31mTaichiSyntaxError\u001b[0m\u001b[0;31m:\u001b[0m Taichi functions cannot be called from Python-scope.\n"
     ]
    }
   ],
   "source": [
    "ti.init()\n",
    "v = 1\n",
    "\n",
    "@ti.kernel\n",
    "def triple_array():\n",
    "    for i in range(2):\n",
    "        print(plasma_frequency(v,v,v))\n",
    "triple_array()\n"
   ]
  },
  {
   "cell_type": "code",
   "execution_count": null,
   "id": "45038b90",
   "metadata": {},
   "outputs": [],
   "source": []
  }
 ],
 "metadata": {
  "kernelspec": {
   "display_name": "Python 3 (ipykernel)",
   "language": "python",
   "name": "python3"
  },
  "language_info": {
   "codemirror_mode": {
    "name": "ipython",
    "version": 3
   },
   "file_extension": ".py",
   "mimetype": "text/x-python",
   "name": "python",
   "nbconvert_exporter": "python",
   "pygments_lexer": "ipython3",
   "version": "3.8.15"
  }
 },
 "nbformat": 4,
 "nbformat_minor": 5
}
